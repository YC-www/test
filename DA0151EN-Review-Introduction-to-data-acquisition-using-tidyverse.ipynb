{
  "cells": [
    {
      "cell_type": "markdown",
      "metadata": {
        "id": "615e4be4-8902-4e4f-a50e-5857c6d74a55"
      },
      "source": [
        "<center><img src=\"https://cf-courses-data.s3.us.cloud-object-storage.appdomain.cloud/assets/logos/SN_web_lightmode.png\" width=\"300\"></center>\n"
      ]
    },
    {
      "cell_type": "markdown",
      "metadata": {
        "id": "44c9fc3f-8e86-4f56-99a6-623b156c81f9"
      },
      "source": [
        "<h1>Introduction to Data Acquisition using Tidyverse</h1>\n",
        "\n",
        "Estimated Time Needed: <strong>30 min</strong>\n",
        "\n",
        "<h3>Welcome!</h3>\n",
        "\n",
        "<p>\n",
        "In this section, you will learn how to approach data acquisition in various ways, and obtain necessary information about the dataset. By the end of this lab, you will successfully load the data into Jupyter Notebook, and gain some fundamental insights via the Tidyverse library.\n",
        "</p>\n"
      ]
    },
    {
      "cell_type": "markdown",
      "metadata": {
        "id": "308adec1-2ec3-494b-a1f5-8fae3aa54a58"
      },
      "source": [
        "### Table of Contents:\n",
        "* [1. Data Acquisition](#cell1)\n",
        "* [2. Basic Insights of the Dataset](#cell2)\n"
      ]
    },
    {
      "cell_type": "markdown",
      "metadata": {
        "id": "5f4b7893-451a-4878-b911-e6ec62532bf1"
      },
      "source": [
        "<a id=\"cell1\"></a>\n",
        "<h1 id=\"data_acquisition\">1. Data Acquisition</h1>\n",
        "<p>\n",
        "There are various formats for a dataset like .csv, .json, .xlsx, etc. The dataset can be stored in different places, on your local machine or sometimes online. In this section, you will learn how to load a dataset into our Jupyter Notebook.<br>\n",
        "\n",
        "In our case, the <a href=\"https://developer.ibm.com/exchanges/data/all/airline/\">Airline Dataset</a> is an online source, and it is in CSV (comma separated value) format. Let's use a smaller subset of the original dataset as an example to practice data reading.\n",
        "<ul>\n",
        "    <li>data source: <a href=\"https://dax-cdn.cdn.appdomain.cloud/dax-airline/1.0.1/lax_to_jfk.tar.gz\" target=\"_blank\">https://dax-cdn.cdn.appdomain.cloud/dax-airline/1.0.1/lax_to_jfk.tar.gz</a></li>\n",
        "    <li>data type: csv</li>\n",
        "</ul>\n",
        "\n",
        "The Tidyverse library is a useful tool that enables us to read various datasets into a data frame; our Jupyter notebook platforms have a built-in <b>Tidyverse library</b> so we do not need to install the package prior to loading library.  However, if you decide to run this lab on your RStudio Desktop locally on your machine, you can remove the commented line of code to install Tidyverse before loading.\n",
        "\n",
        "</p>\n"
      ]
    },
    {
      "cell_type": "code",
      "metadata": {
        "id": "52241e11-e0b1-4958-8153-82345b1418ed"
      },
      "outputs": [],
      "source": [
        "# Uncomment to install tidyverse if running locally\n",
        "install.packages(\"tidyverse\")"
      ],
      "execution_count": null
    },
    {
      "cell_type": "code",
      "metadata": {
        "id": "534a27fc-2728-41b3-ac08-6b60301be46d",
        "outputId": "7ae695a9-3f10-4bfd-a061-54bef562316b",
        "colab": {
          "base_uri": "https://localhost:8080/"
        }
      },
      "outputs": [
        {
          "output_type": "stream",
          "name": "stderr",
          "text": [
            "── \u001b[1mAttaching core tidyverse packages\u001b[22m ──────────────────────── tidyverse 2.0.0 ──\n",
            "\u001b[32m✔\u001b[39m \u001b[34mdplyr    \u001b[39m 1.1.4     \u001b[32m✔\u001b[39m \u001b[34mreadr    \u001b[39m 2.1.5\n",
            "\u001b[32m✔\u001b[39m \u001b[34mforcats  \u001b[39m 1.0.0     \u001b[32m✔\u001b[39m \u001b[34mstringr  \u001b[39m 1.5.1\n",
            "\u001b[32m✔\u001b[39m \u001b[34mggplot2  \u001b[39m 3.5.1     \u001b[32m✔\u001b[39m \u001b[34mtibble   \u001b[39m 3.2.1\n",
            "\u001b[32m✔\u001b[39m \u001b[34mlubridate\u001b[39m 1.9.3     \u001b[32m✔\u001b[39m \u001b[34mtidyr    \u001b[39m 1.3.1\n",
            "\u001b[32m✔\u001b[39m \u001b[34mpurrr    \u001b[39m 1.0.2     \n",
            "── \u001b[1mConflicts\u001b[22m ────────────────────────────────────────── tidyverse_conflicts() ──\n",
            "\u001b[31m✖\u001b[39m \u001b[34mdplyr\u001b[39m::\u001b[32mfilter()\u001b[39m masks \u001b[34mstats\u001b[39m::filter()\n",
            "\u001b[31m✖\u001b[39m \u001b[34mdplyr\u001b[39m::\u001b[32mlag()\u001b[39m    masks \u001b[34mstats\u001b[39m::lag()\n",
            "\u001b[36mℹ\u001b[39m Use the conflicted package (\u001b[3m\u001b[34m<http://conflicted.r-lib.org/>\u001b[39m\u001b[23m) to force all conflicts to become errors\n"
          ]
        }
      ],
      "source": [
        "# Load tidyverse\n",
        "library(tidyverse)"
      ],
      "execution_count": 1
    },
    {
      "cell_type": "markdown",
      "metadata": {
        "id": "ee70beca-0aa3-4829-8117-6bc7efe621fe"
      },
      "source": [
        "The Tidyverse library has a suite of packages that all work together well, namely:\n",
        "* tidyr: helps create tidy data\n",
        "* dplyr: manipulates and transforms data\n",
        "* readr: easily read different types of datasets\n",
        "* purrr: functional programming toolkit\n",
        "* ggplot2: create plots and visualizations\n",
        "\n",
        "In this notebook, we will mainly use functions from readr and dplyr. However, don't worry about memorizing which function is from which library, just know that all are included in Tidyverse.\n"
      ]
    },
    {
      "cell_type": "markdown",
      "metadata": {
        "id": "83b657ed-6e78-4ef5-aed8-8bd4153b378a"
      },
      "source": [
        "<h2>Read Data</h2>\n",
        "<p>\n",
        "We use the function <code>readr::read_csv()</code> to read csv files. The <code>::</code> tells you which package the function is from, so <code>read_csv()</code> is from library <code>readr</code> (which is automatically loaded with Tidyverse). There are a few parts to the function to go over:\n",
        "</p>\n",
        "\n",
        "* `file` (or the first parameter): this is file path along with quotation marks, so that `read_csv()` will read the file into a data frame from that address. The file path can be either an URL or your local file address.\n",
        "* `col_names`: by deafult this is set to `col_names = TRUE`. If this is TRUE then the first row is set as the headers (which is correct in this dataset).\n",
        "* `col_types`: used to specify what types columns are. By default, `read_csv()` will guess the type of the columns but if there are columns you want to specify you can do so as well.\n",
        "    * Posible types you could use are `col_logical()`, `col_integer()`, `col_number()`, `col_character()`. You can look at the documentation of `readr::cols` for more.\n",
        "    \n",
        "You can assign the loaded dataset to any variable name, here it is `sub_airline`.\n"
      ]
    },
    {
      "cell_type": "code",
      "metadata": {
        "id": "9123123e-ad2d-41ac-a41f-ea4b39b11c8c",
        "outputId": "024f204f-abcc-490e-f2ab-34f5ed0c328c",
        "colab": {
          "base_uri": "https://localhost:8080/"
        }
      },
      "outputs": [
        {
          "output_type": "stream",
          "name": "stderr",
          "text": [
            "Warning message in untar2(tarfile, files, list, exdir, restore_times):\n",
            "“using pax extended headers”\n"
          ]
        }
      ],
      "source": [
        "# url where the data is located\n",
        "url <- \"https://dax-cdn.cdn.appdomain.cloud/dax-airline/1.0.1/lax_to_jfk.tar.gz\"\n",
        "# download the file\n",
        "download.file(url, destfile = \"lax_to_jfk.tar.gz\")\n",
        "# untar the file so we can get the csv only\n",
        "untar(\"lax_to_jfk.tar.gz\", tar = \"internal\")\n",
        "# read_csv only\n",
        "sub_airline <- read_csv(\"lax_to_jfk/lax_to_jfk.csv\",\n",
        "                     col_types = cols(\n",
        "                      'DivDistance' = col_number(),\n",
        "                      'DivArrDelay' = col_number()\n",
        "                      ))"
      ],
      "execution_count": 2
    },
    {
      "cell_type": "markdown",
      "metadata": {
        "id": "cb57045c-9c9f-4725-9439-10b29326c798"
      },
      "source": [
        "After reading the dataset, there are a few functions you can use to get some initial information about the dataframe:\n",
        "* `head(dataframe, n)`: returns the first *n* rows of the dataframe, if *n* is not specified, then by default the first 6 rows (not including the column headers) are returned\n",
        "* `tail(dataframe, n)`: returns the last *n* rows of the dataframe, if *n* is not specified, then by default the last 6 rows are returned.\n",
        "* `colnames(dataframe)`: retrieves the column names of the dataframe\n",
        "* `dim(dataframe)`: retrieves the dimension (number of rows and columns) of the dataframe\n"
      ]
    },
    {
      "cell_type": "code",
      "metadata": {
        "id": "8518b986-6a5b-4ce2-b639-20f4d9b2dba5",
        "outputId": "3c04916f-ba7a-4198-aeb8-f821943c637e",
        "colab": {
          "base_uri": "https://localhost:8080/",
          "height": 212
        }
      },
      "outputs": [
        {
          "output_type": "display_data",
          "data": {
            "text/html": [
              "<table class=\"dataframe\">\n",
              "<caption>A tibble: 3 × 21</caption>\n",
              "<thead>\n",
              "\t<tr><th scope=col>Month</th><th scope=col>DayOfWeek</th><th scope=col>FlightDate</th><th scope=col>Reporting_Airline</th><th scope=col>Origin</th><th scope=col>Dest</th><th scope=col>CRSDepTime</th><th scope=col>CRSArrTime</th><th scope=col>DepTime</th><th scope=col>ArrTime</th><th scope=col>⋯</th><th scope=col>ArrDelayMinutes</th><th scope=col>CarrierDelay</th><th scope=col>WeatherDelay</th><th scope=col>NASDelay</th><th scope=col>SecurityDelay</th><th scope=col>LateAircraftDelay</th><th scope=col>DepDelay</th><th scope=col>DepDelayMinutes</th><th scope=col>DivDistance</th><th scope=col>DivArrDelay</th></tr>\n",
              "\t<tr><th scope=col>&lt;dbl&gt;</th><th scope=col>&lt;dbl&gt;</th><th scope=col>&lt;date&gt;</th><th scope=col>&lt;chr&gt;</th><th scope=col>&lt;chr&gt;</th><th scope=col>&lt;chr&gt;</th><th scope=col>&lt;chr&gt;</th><th scope=col>&lt;chr&gt;</th><th scope=col>&lt;chr&gt;</th><th scope=col>&lt;chr&gt;</th><th scope=col>⋯</th><th scope=col>&lt;dbl&gt;</th><th scope=col>&lt;dbl&gt;</th><th scope=col>&lt;dbl&gt;</th><th scope=col>&lt;dbl&gt;</th><th scope=col>&lt;dbl&gt;</th><th scope=col>&lt;dbl&gt;</th><th scope=col>&lt;dbl&gt;</th><th scope=col>&lt;dbl&gt;</th><th scope=col>&lt;dbl&gt;</th><th scope=col>&lt;dbl&gt;</th></tr>\n",
              "</thead>\n",
              "<tbody>\n",
              "\t<tr><td> 3</td><td>5</td><td>2003-03-28</td><td>UA</td><td>LAX</td><td>JFK</td><td>2210</td><td>0615</td><td>2209</td><td>0617</td><td>⋯</td><td>2</td><td>NA</td><td>NA</td><td>NA</td><td>NA</td><td>NA</td><td>-1</td><td>0</td><td>NA</td><td>NA</td></tr>\n",
              "\t<tr><td>11</td><td>4</td><td>2018-11-29</td><td>AS</td><td>LAX</td><td>JFK</td><td>1045</td><td>1912</td><td>1049</td><td>1851</td><td>⋯</td><td>0</td><td>NA</td><td>NA</td><td>NA</td><td>NA</td><td>NA</td><td> 4</td><td>4</td><td>NA</td><td>NA</td></tr>\n",
              "\t<tr><td> 8</td><td>5</td><td>2015-08-28</td><td>UA</td><td>LAX</td><td>JFK</td><td>0805</td><td>1634</td><td>0757</td><td>1620</td><td>⋯</td><td>0</td><td>NA</td><td>NA</td><td>NA</td><td>NA</td><td>NA</td><td>-8</td><td>0</td><td>NA</td><td>NA</td></tr>\n",
              "</tbody>\n",
              "</table>\n"
            ],
            "text/markdown": "\nA tibble: 3 × 21\n\n| Month &lt;dbl&gt; | DayOfWeek &lt;dbl&gt; | FlightDate &lt;date&gt; | Reporting_Airline &lt;chr&gt; | Origin &lt;chr&gt; | Dest &lt;chr&gt; | CRSDepTime &lt;chr&gt; | CRSArrTime &lt;chr&gt; | DepTime &lt;chr&gt; | ArrTime &lt;chr&gt; | ⋯ ⋯ | ArrDelayMinutes &lt;dbl&gt; | CarrierDelay &lt;dbl&gt; | WeatherDelay &lt;dbl&gt; | NASDelay &lt;dbl&gt; | SecurityDelay &lt;dbl&gt; | LateAircraftDelay &lt;dbl&gt; | DepDelay &lt;dbl&gt; | DepDelayMinutes &lt;dbl&gt; | DivDistance &lt;dbl&gt; | DivArrDelay &lt;dbl&gt; |\n|---|---|---|---|---|---|---|---|---|---|---|---|---|---|---|---|---|---|---|---|---|\n|  3 | 5 | 2003-03-28 | UA | LAX | JFK | 2210 | 0615 | 2209 | 0617 | ⋯ | 2 | NA | NA | NA | NA | NA | -1 | 0 | NA | NA |\n| 11 | 4 | 2018-11-29 | AS | LAX | JFK | 1045 | 1912 | 1049 | 1851 | ⋯ | 0 | NA | NA | NA | NA | NA |  4 | 4 | NA | NA |\n|  8 | 5 | 2015-08-28 | UA | LAX | JFK | 0805 | 1634 | 0757 | 1620 | ⋯ | 0 | NA | NA | NA | NA | NA | -8 | 0 | NA | NA |\n\n",
            "text/latex": "A tibble: 3 × 21\n\\begin{tabular}{lllllllllllllllllllll}\n Month & DayOfWeek & FlightDate & Reporting\\_Airline & Origin & Dest & CRSDepTime & CRSArrTime & DepTime & ArrTime & ⋯ & ArrDelayMinutes & CarrierDelay & WeatherDelay & NASDelay & SecurityDelay & LateAircraftDelay & DepDelay & DepDelayMinutes & DivDistance & DivArrDelay\\\\\n <dbl> & <dbl> & <date> & <chr> & <chr> & <chr> & <chr> & <chr> & <chr> & <chr> & ⋯ & <dbl> & <dbl> & <dbl> & <dbl> & <dbl> & <dbl> & <dbl> & <dbl> & <dbl> & <dbl>\\\\\n\\hline\n\t  3 & 5 & 2003-03-28 & UA & LAX & JFK & 2210 & 0615 & 2209 & 0617 & ⋯ & 2 & NA & NA & NA & NA & NA & -1 & 0 & NA & NA\\\\\n\t 11 & 4 & 2018-11-29 & AS & LAX & JFK & 1045 & 1912 & 1049 & 1851 & ⋯ & 0 & NA & NA & NA & NA & NA &  4 & 4 & NA & NA\\\\\n\t  8 & 5 & 2015-08-28 & UA & LAX & JFK & 0805 & 1634 & 0757 & 1620 & ⋯ & 0 & NA & NA & NA & NA & NA & -8 & 0 & NA & NA\\\\\n\\end{tabular}\n",
            "text/plain": [
              "  Month DayOfWeek FlightDate Reporting_Airline Origin Dest CRSDepTime\n",
              "1  3    5         2003-03-28 UA                LAX    JFK  2210      \n",
              "2 11    4         2018-11-29 AS                LAX    JFK  1045      \n",
              "3  8    5         2015-08-28 UA                LAX    JFK  0805      \n",
              "  CRSArrTime DepTime ArrTime ⋯ ArrDelayMinutes CarrierDelay WeatherDelay\n",
              "1 0615       2209    0617    ⋯ 2               NA           NA          \n",
              "2 1912       1049    1851    ⋯ 0               NA           NA          \n",
              "3 1634       0757    1620    ⋯ 0               NA           NA          \n",
              "  NASDelay SecurityDelay LateAircraftDelay DepDelay DepDelayMinutes DivDistance\n",
              "1 NA       NA            NA                -1       0               NA         \n",
              "2 NA       NA            NA                 4       4               NA         \n",
              "3 NA       NA            NA                -8       0               NA         \n",
              "  DivArrDelay\n",
              "1 NA         \n",
              "2 NA         \n",
              "3 NA         "
            ]
          },
          "metadata": {}
        }
      ],
      "source": [
        "# show the first n = 3 rows\n",
        "head(sub_airline, 3)"
      ],
      "execution_count": 3
    },
    {
      "cell_type": "markdown",
      "metadata": {
        "id": "3da46ee4-9a8e-4a3f-85ff-04e8459982d8"
      },
      "source": [
        "Or, you can choose to not input `n`, then it will show the first or the last 6 rows as default.\n"
      ]
    },
    {
      "cell_type": "code",
      "metadata": {
        "id": "c8112ef3-c335-4615-91b1-a8eca9f00779",
        "outputId": "7c476382-dd5e-4365-b9b5-6fc109724b24",
        "colab": {
          "base_uri": "https://localhost:8080/",
          "height": 306
        }
      },
      "outputs": [
        {
          "output_type": "display_data",
          "data": {
            "text/html": [
              "<table class=\"dataframe\">\n",
              "<caption>A tibble: 6 × 21</caption>\n",
              "<thead>\n",
              "\t<tr><th scope=col>Month</th><th scope=col>DayOfWeek</th><th scope=col>FlightDate</th><th scope=col>Reporting_Airline</th><th scope=col>Origin</th><th scope=col>Dest</th><th scope=col>CRSDepTime</th><th scope=col>CRSArrTime</th><th scope=col>DepTime</th><th scope=col>ArrTime</th><th scope=col>⋯</th><th scope=col>ArrDelayMinutes</th><th scope=col>CarrierDelay</th><th scope=col>WeatherDelay</th><th scope=col>NASDelay</th><th scope=col>SecurityDelay</th><th scope=col>LateAircraftDelay</th><th scope=col>DepDelay</th><th scope=col>DepDelayMinutes</th><th scope=col>DivDistance</th><th scope=col>DivArrDelay</th></tr>\n",
              "\t<tr><th scope=col>&lt;dbl&gt;</th><th scope=col>&lt;dbl&gt;</th><th scope=col>&lt;date&gt;</th><th scope=col>&lt;chr&gt;</th><th scope=col>&lt;chr&gt;</th><th scope=col>&lt;chr&gt;</th><th scope=col>&lt;chr&gt;</th><th scope=col>&lt;chr&gt;</th><th scope=col>&lt;chr&gt;</th><th scope=col>&lt;chr&gt;</th><th scope=col>⋯</th><th scope=col>&lt;dbl&gt;</th><th scope=col>&lt;dbl&gt;</th><th scope=col>&lt;dbl&gt;</th><th scope=col>&lt;dbl&gt;</th><th scope=col>&lt;dbl&gt;</th><th scope=col>&lt;dbl&gt;</th><th scope=col>&lt;dbl&gt;</th><th scope=col>&lt;dbl&gt;</th><th scope=col>&lt;dbl&gt;</th><th scope=col>&lt;dbl&gt;</th></tr>\n",
              "</thead>\n",
              "<tbody>\n",
              "\t<tr><td> 3</td><td>5</td><td>2003-03-28</td><td>UA</td><td>LAX</td><td>JFK</td><td>2210</td><td>0615</td><td>2209</td><td>0617</td><td>⋯</td><td>2</td><td>NA</td><td>NA</td><td>NA</td><td>NA</td><td>NA</td><td>-1</td><td>0</td><td>NA</td><td>NA</td></tr>\n",
              "\t<tr><td>11</td><td>4</td><td>2018-11-29</td><td>AS</td><td>LAX</td><td>JFK</td><td>1045</td><td>1912</td><td>1049</td><td>1851</td><td>⋯</td><td>0</td><td>NA</td><td>NA</td><td>NA</td><td>NA</td><td>NA</td><td> 4</td><td>4</td><td>NA</td><td>NA</td></tr>\n",
              "\t<tr><td> 8</td><td>5</td><td>2015-08-28</td><td>UA</td><td>LAX</td><td>JFK</td><td>0805</td><td>1634</td><td>0757</td><td>1620</td><td>⋯</td><td>0</td><td>NA</td><td>NA</td><td>NA</td><td>NA</td><td>NA</td><td>-8</td><td>0</td><td>NA</td><td>NA</td></tr>\n",
              "\t<tr><td> 4</td><td>7</td><td>2003-04-20</td><td>DL</td><td>LAX</td><td>JFK</td><td>2205</td><td>0619</td><td>2212</td><td>0616</td><td>⋯</td><td>0</td><td>NA</td><td>NA</td><td>NA</td><td>NA</td><td>NA</td><td> 7</td><td>7</td><td>NA</td><td>NA</td></tr>\n",
              "\t<tr><td>11</td><td>3</td><td>2005-11-30</td><td>UA</td><td>LAX</td><td>JFK</td><td>0840</td><td>1653</td><td>0836</td><td>1640</td><td>⋯</td><td>0</td><td>NA</td><td>NA</td><td>NA</td><td>NA</td><td>NA</td><td>-4</td><td>0</td><td>NA</td><td>NA</td></tr>\n",
              "\t<tr><td> 4</td><td>1</td><td>1992-04-06</td><td>UA</td><td>LAX</td><td>JFK</td><td>1450</td><td>2308</td><td>1452</td><td>2248</td><td>⋯</td><td>0</td><td>NA</td><td>NA</td><td>NA</td><td>NA</td><td>NA</td><td> 2</td><td>2</td><td>NA</td><td>NA</td></tr>\n",
              "</tbody>\n",
              "</table>\n"
            ],
            "text/markdown": "\nA tibble: 6 × 21\n\n| Month &lt;dbl&gt; | DayOfWeek &lt;dbl&gt; | FlightDate &lt;date&gt; | Reporting_Airline &lt;chr&gt; | Origin &lt;chr&gt; | Dest &lt;chr&gt; | CRSDepTime &lt;chr&gt; | CRSArrTime &lt;chr&gt; | DepTime &lt;chr&gt; | ArrTime &lt;chr&gt; | ⋯ ⋯ | ArrDelayMinutes &lt;dbl&gt; | CarrierDelay &lt;dbl&gt; | WeatherDelay &lt;dbl&gt; | NASDelay &lt;dbl&gt; | SecurityDelay &lt;dbl&gt; | LateAircraftDelay &lt;dbl&gt; | DepDelay &lt;dbl&gt; | DepDelayMinutes &lt;dbl&gt; | DivDistance &lt;dbl&gt; | DivArrDelay &lt;dbl&gt; |\n|---|---|---|---|---|---|---|---|---|---|---|---|---|---|---|---|---|---|---|---|---|\n|  3 | 5 | 2003-03-28 | UA | LAX | JFK | 2210 | 0615 | 2209 | 0617 | ⋯ | 2 | NA | NA | NA | NA | NA | -1 | 0 | NA | NA |\n| 11 | 4 | 2018-11-29 | AS | LAX | JFK | 1045 | 1912 | 1049 | 1851 | ⋯ | 0 | NA | NA | NA | NA | NA |  4 | 4 | NA | NA |\n|  8 | 5 | 2015-08-28 | UA | LAX | JFK | 0805 | 1634 | 0757 | 1620 | ⋯ | 0 | NA | NA | NA | NA | NA | -8 | 0 | NA | NA |\n|  4 | 7 | 2003-04-20 | DL | LAX | JFK | 2205 | 0619 | 2212 | 0616 | ⋯ | 0 | NA | NA | NA | NA | NA |  7 | 7 | NA | NA |\n| 11 | 3 | 2005-11-30 | UA | LAX | JFK | 0840 | 1653 | 0836 | 1640 | ⋯ | 0 | NA | NA | NA | NA | NA | -4 | 0 | NA | NA |\n|  4 | 1 | 1992-04-06 | UA | LAX | JFK | 1450 | 2308 | 1452 | 2248 | ⋯ | 0 | NA | NA | NA | NA | NA |  2 | 2 | NA | NA |\n\n",
            "text/latex": "A tibble: 6 × 21\n\\begin{tabular}{lllllllllllllllllllll}\n Month & DayOfWeek & FlightDate & Reporting\\_Airline & Origin & Dest & CRSDepTime & CRSArrTime & DepTime & ArrTime & ⋯ & ArrDelayMinutes & CarrierDelay & WeatherDelay & NASDelay & SecurityDelay & LateAircraftDelay & DepDelay & DepDelayMinutes & DivDistance & DivArrDelay\\\\\n <dbl> & <dbl> & <date> & <chr> & <chr> & <chr> & <chr> & <chr> & <chr> & <chr> & ⋯ & <dbl> & <dbl> & <dbl> & <dbl> & <dbl> & <dbl> & <dbl> & <dbl> & <dbl> & <dbl>\\\\\n\\hline\n\t  3 & 5 & 2003-03-28 & UA & LAX & JFK & 2210 & 0615 & 2209 & 0617 & ⋯ & 2 & NA & NA & NA & NA & NA & -1 & 0 & NA & NA\\\\\n\t 11 & 4 & 2018-11-29 & AS & LAX & JFK & 1045 & 1912 & 1049 & 1851 & ⋯ & 0 & NA & NA & NA & NA & NA &  4 & 4 & NA & NA\\\\\n\t  8 & 5 & 2015-08-28 & UA & LAX & JFK & 0805 & 1634 & 0757 & 1620 & ⋯ & 0 & NA & NA & NA & NA & NA & -8 & 0 & NA & NA\\\\\n\t  4 & 7 & 2003-04-20 & DL & LAX & JFK & 2205 & 0619 & 2212 & 0616 & ⋯ & 0 & NA & NA & NA & NA & NA &  7 & 7 & NA & NA\\\\\n\t 11 & 3 & 2005-11-30 & UA & LAX & JFK & 0840 & 1653 & 0836 & 1640 & ⋯ & 0 & NA & NA & NA & NA & NA & -4 & 0 & NA & NA\\\\\n\t  4 & 1 & 1992-04-06 & UA & LAX & JFK & 1450 & 2308 & 1452 & 2248 & ⋯ & 0 & NA & NA & NA & NA & NA &  2 & 2 & NA & NA\\\\\n\\end{tabular}\n",
            "text/plain": [
              "  Month DayOfWeek FlightDate Reporting_Airline Origin Dest CRSDepTime\n",
              "1  3    5         2003-03-28 UA                LAX    JFK  2210      \n",
              "2 11    4         2018-11-29 AS                LAX    JFK  1045      \n",
              "3  8    5         2015-08-28 UA                LAX    JFK  0805      \n",
              "4  4    7         2003-04-20 DL                LAX    JFK  2205      \n",
              "5 11    3         2005-11-30 UA                LAX    JFK  0840      \n",
              "6  4    1         1992-04-06 UA                LAX    JFK  1450      \n",
              "  CRSArrTime DepTime ArrTime ⋯ ArrDelayMinutes CarrierDelay WeatherDelay\n",
              "1 0615       2209    0617    ⋯ 2               NA           NA          \n",
              "2 1912       1049    1851    ⋯ 0               NA           NA          \n",
              "3 1634       0757    1620    ⋯ 0               NA           NA          \n",
              "4 0619       2212    0616    ⋯ 0               NA           NA          \n",
              "5 1653       0836    1640    ⋯ 0               NA           NA          \n",
              "6 2308       1452    2248    ⋯ 0               NA           NA          \n",
              "  NASDelay SecurityDelay LateAircraftDelay DepDelay DepDelayMinutes DivDistance\n",
              "1 NA       NA            NA                -1       0               NA         \n",
              "2 NA       NA            NA                 4       4               NA         \n",
              "3 NA       NA            NA                -8       0               NA         \n",
              "4 NA       NA            NA                 7       7               NA         \n",
              "5 NA       NA            NA                -4       0               NA         \n",
              "6 NA       NA            NA                 2       2               NA         \n",
              "  DivArrDelay\n",
              "1 NA         \n",
              "2 NA         \n",
              "3 NA         \n",
              "4 NA         \n",
              "5 NA         \n",
              "6 NA         "
            ]
          },
          "metadata": {}
        }
      ],
      "source": [
        "# show the first 6 rows\n",
        "head(sub_airline)"
      ],
      "execution_count": 4
    },
    {
      "cell_type": "code",
      "metadata": {
        "id": "57a9249c-e8cd-42b5-b5fb-542dbb62e749",
        "outputId": "12c6abc0-3420-47c9-ac78-c432b909b594",
        "colab": {
          "base_uri": "https://localhost:8080/",
          "height": 306
        }
      },
      "outputs": [
        {
          "output_type": "display_data",
          "data": {
            "text/html": [
              "<table class=\"dataframe\">\n",
              "<caption>A tibble: 6 × 21</caption>\n",
              "<thead>\n",
              "\t<tr><th scope=col>Month</th><th scope=col>DayOfWeek</th><th scope=col>FlightDate</th><th scope=col>Reporting_Airline</th><th scope=col>Origin</th><th scope=col>Dest</th><th scope=col>CRSDepTime</th><th scope=col>CRSArrTime</th><th scope=col>DepTime</th><th scope=col>ArrTime</th><th scope=col>⋯</th><th scope=col>ArrDelayMinutes</th><th scope=col>CarrierDelay</th><th scope=col>WeatherDelay</th><th scope=col>NASDelay</th><th scope=col>SecurityDelay</th><th scope=col>LateAircraftDelay</th><th scope=col>DepDelay</th><th scope=col>DepDelayMinutes</th><th scope=col>DivDistance</th><th scope=col>DivArrDelay</th></tr>\n",
              "\t<tr><th scope=col>&lt;dbl&gt;</th><th scope=col>&lt;dbl&gt;</th><th scope=col>&lt;date&gt;</th><th scope=col>&lt;chr&gt;</th><th scope=col>&lt;chr&gt;</th><th scope=col>&lt;chr&gt;</th><th scope=col>&lt;chr&gt;</th><th scope=col>&lt;chr&gt;</th><th scope=col>&lt;chr&gt;</th><th scope=col>&lt;chr&gt;</th><th scope=col>⋯</th><th scope=col>&lt;dbl&gt;</th><th scope=col>&lt;dbl&gt;</th><th scope=col>&lt;dbl&gt;</th><th scope=col>&lt;dbl&gt;</th><th scope=col>&lt;dbl&gt;</th><th scope=col>&lt;dbl&gt;</th><th scope=col>&lt;dbl&gt;</th><th scope=col>&lt;dbl&gt;</th><th scope=col>&lt;dbl&gt;</th><th scope=col>&lt;dbl&gt;</th></tr>\n",
              "</thead>\n",
              "<tbody>\n",
              "\t<tr><td>10</td><td>6</td><td>1996-10-19</td><td>AA</td><td>LAX</td><td>JFK</td><td>0700</td><td>1509</td><td>0700</td><td>1610</td><td>⋯</td><td>61</td><td>NA</td><td>NA</td><td>NA</td><td>NA</td><td>NA</td><td> 0</td><td>0</td><td>NA</td><td>NA</td></tr>\n",
              "\t<tr><td>10</td><td>3</td><td>2015-10-21</td><td>DL</td><td>LAX</td><td>JFK</td><td>2255</td><td>0720</td><td>2254</td><td>0723</td><td>⋯</td><td> 3</td><td>NA</td><td>NA</td><td>NA</td><td>NA</td><td>NA</td><td>-1</td><td>0</td><td>NA</td><td>NA</td></tr>\n",
              "\t<tr><td> 7</td><td>5</td><td>2012-07-06</td><td>UA</td><td>LAX</td><td>JFK</td><td>0605</td><td>1422</td><td>0600</td><td>1427</td><td>⋯</td><td> 5</td><td>NA</td><td>NA</td><td>NA</td><td>NA</td><td>NA</td><td>-5</td><td>0</td><td>NA</td><td>NA</td></tr>\n",
              "\t<tr><td> 1</td><td>3</td><td>2010-01-06</td><td>DL</td><td>LAX</td><td>JFK</td><td>2125</td><td>0543</td><td>2118</td><td>0540</td><td>⋯</td><td> 0</td><td>NA</td><td>NA</td><td>NA</td><td>NA</td><td>NA</td><td>-7</td><td>0</td><td>NA</td><td>NA</td></tr>\n",
              "\t<tr><td> 5</td><td>5</td><td>2009-05-15</td><td>AA</td><td>LAX</td><td>JFK</td><td>2115</td><td>0535</td><td>2119</td><td>0533</td><td>⋯</td><td> 0</td><td>NA</td><td>NA</td><td>NA</td><td>NA</td><td>NA</td><td> 4</td><td>4</td><td>NA</td><td>NA</td></tr>\n",
              "\t<tr><td> 7</td><td>4</td><td>2000-07-06</td><td>AA</td><td>LAX</td><td>JFK</td><td>2200</td><td>0622</td><td>2158</td><td>0610</td><td>⋯</td><td> 0</td><td>NA</td><td>NA</td><td>NA</td><td>NA</td><td>NA</td><td>-2</td><td>0</td><td>NA</td><td>NA</td></tr>\n",
              "</tbody>\n",
              "</table>\n"
            ],
            "text/markdown": "\nA tibble: 6 × 21\n\n| Month &lt;dbl&gt; | DayOfWeek &lt;dbl&gt; | FlightDate &lt;date&gt; | Reporting_Airline &lt;chr&gt; | Origin &lt;chr&gt; | Dest &lt;chr&gt; | CRSDepTime &lt;chr&gt; | CRSArrTime &lt;chr&gt; | DepTime &lt;chr&gt; | ArrTime &lt;chr&gt; | ⋯ ⋯ | ArrDelayMinutes &lt;dbl&gt; | CarrierDelay &lt;dbl&gt; | WeatherDelay &lt;dbl&gt; | NASDelay &lt;dbl&gt; | SecurityDelay &lt;dbl&gt; | LateAircraftDelay &lt;dbl&gt; | DepDelay &lt;dbl&gt; | DepDelayMinutes &lt;dbl&gt; | DivDistance &lt;dbl&gt; | DivArrDelay &lt;dbl&gt; |\n|---|---|---|---|---|---|---|---|---|---|---|---|---|---|---|---|---|---|---|---|---|\n| 10 | 6 | 1996-10-19 | AA | LAX | JFK | 0700 | 1509 | 0700 | 1610 | ⋯ | 61 | NA | NA | NA | NA | NA |  0 | 0 | NA | NA |\n| 10 | 3 | 2015-10-21 | DL | LAX | JFK | 2255 | 0720 | 2254 | 0723 | ⋯ |  3 | NA | NA | NA | NA | NA | -1 | 0 | NA | NA |\n|  7 | 5 | 2012-07-06 | UA | LAX | JFK | 0605 | 1422 | 0600 | 1427 | ⋯ |  5 | NA | NA | NA | NA | NA | -5 | 0 | NA | NA |\n|  1 | 3 | 2010-01-06 | DL | LAX | JFK | 2125 | 0543 | 2118 | 0540 | ⋯ |  0 | NA | NA | NA | NA | NA | -7 | 0 | NA | NA |\n|  5 | 5 | 2009-05-15 | AA | LAX | JFK | 2115 | 0535 | 2119 | 0533 | ⋯ |  0 | NA | NA | NA | NA | NA |  4 | 4 | NA | NA |\n|  7 | 4 | 2000-07-06 | AA | LAX | JFK | 2200 | 0622 | 2158 | 0610 | ⋯ |  0 | NA | NA | NA | NA | NA | -2 | 0 | NA | NA |\n\n",
            "text/latex": "A tibble: 6 × 21\n\\begin{tabular}{lllllllllllllllllllll}\n Month & DayOfWeek & FlightDate & Reporting\\_Airline & Origin & Dest & CRSDepTime & CRSArrTime & DepTime & ArrTime & ⋯ & ArrDelayMinutes & CarrierDelay & WeatherDelay & NASDelay & SecurityDelay & LateAircraftDelay & DepDelay & DepDelayMinutes & DivDistance & DivArrDelay\\\\\n <dbl> & <dbl> & <date> & <chr> & <chr> & <chr> & <chr> & <chr> & <chr> & <chr> & ⋯ & <dbl> & <dbl> & <dbl> & <dbl> & <dbl> & <dbl> & <dbl> & <dbl> & <dbl> & <dbl>\\\\\n\\hline\n\t 10 & 6 & 1996-10-19 & AA & LAX & JFK & 0700 & 1509 & 0700 & 1610 & ⋯ & 61 & NA & NA & NA & NA & NA &  0 & 0 & NA & NA\\\\\n\t 10 & 3 & 2015-10-21 & DL & LAX & JFK & 2255 & 0720 & 2254 & 0723 & ⋯ &  3 & NA & NA & NA & NA & NA & -1 & 0 & NA & NA\\\\\n\t  7 & 5 & 2012-07-06 & UA & LAX & JFK & 0605 & 1422 & 0600 & 1427 & ⋯ &  5 & NA & NA & NA & NA & NA & -5 & 0 & NA & NA\\\\\n\t  1 & 3 & 2010-01-06 & DL & LAX & JFK & 2125 & 0543 & 2118 & 0540 & ⋯ &  0 & NA & NA & NA & NA & NA & -7 & 0 & NA & NA\\\\\n\t  5 & 5 & 2009-05-15 & AA & LAX & JFK & 2115 & 0535 & 2119 & 0533 & ⋯ &  0 & NA & NA & NA & NA & NA &  4 & 4 & NA & NA\\\\\n\t  7 & 4 & 2000-07-06 & AA & LAX & JFK & 2200 & 0622 & 2158 & 0610 & ⋯ &  0 & NA & NA & NA & NA & NA & -2 & 0 & NA & NA\\\\\n\\end{tabular}\n",
            "text/plain": [
              "  Month DayOfWeek FlightDate Reporting_Airline Origin Dest CRSDepTime\n",
              "1 10    6         1996-10-19 AA                LAX    JFK  0700      \n",
              "2 10    3         2015-10-21 DL                LAX    JFK  2255      \n",
              "3  7    5         2012-07-06 UA                LAX    JFK  0605      \n",
              "4  1    3         2010-01-06 DL                LAX    JFK  2125      \n",
              "5  5    5         2009-05-15 AA                LAX    JFK  2115      \n",
              "6  7    4         2000-07-06 AA                LAX    JFK  2200      \n",
              "  CRSArrTime DepTime ArrTime ⋯ ArrDelayMinutes CarrierDelay WeatherDelay\n",
              "1 1509       0700    1610    ⋯ 61              NA           NA          \n",
              "2 0720       2254    0723    ⋯  3              NA           NA          \n",
              "3 1422       0600    1427    ⋯  5              NA           NA          \n",
              "4 0543       2118    0540    ⋯  0              NA           NA          \n",
              "5 0535       2119    0533    ⋯  0              NA           NA          \n",
              "6 0622       2158    0610    ⋯  0              NA           NA          \n",
              "  NASDelay SecurityDelay LateAircraftDelay DepDelay DepDelayMinutes DivDistance\n",
              "1 NA       NA            NA                 0       0               NA         \n",
              "2 NA       NA            NA                -1       0               NA         \n",
              "3 NA       NA            NA                -5       0               NA         \n",
              "4 NA       NA            NA                -7       0               NA         \n",
              "5 NA       NA            NA                 4       4               NA         \n",
              "6 NA       NA            NA                -2       0               NA         \n",
              "  DivArrDelay\n",
              "1 NA         \n",
              "2 NA         \n",
              "3 NA         \n",
              "4 NA         \n",
              "5 NA         \n",
              "6 NA         "
            ]
          },
          "metadata": {}
        }
      ],
      "source": [
        "# show the last 6 rows\n",
        "tail(sub_airline)"
      ],
      "execution_count": 5
    },
    {
      "cell_type": "markdown",
      "metadata": {
        "id": "693a38c9-1396-4216-b267-65d91eeee4c3"
      },
      "source": [
        "<div class=\"alert alert-danger alertdanger\" style=\"margin-top: 20px\">\n",
        "<h1> Question #1: </h1>\n",
        "<b>Check the last 10 rows of data frame \"sub_airline\".</b>\n",
        "</div>\n"
      ]
    },
    {
      "cell_type": "code",
      "metadata": {
        "id": "e39a388e-03f6-4d8a-95fb-6bbd7a58a8a4",
        "outputId": "ac5fec25-9dc8-4545-aa1c-ad8952067f1e",
        "colab": {
          "base_uri": "https://localhost:8080/",
          "height": 431
        }
      },
      "outputs": [
        {
          "output_type": "display_data",
          "data": {
            "text/html": [
              "<table class=\"dataframe\">\n",
              "<caption>A tibble: 10 × 21</caption>\n",
              "<thead>\n",
              "\t<tr><th scope=col>Month</th><th scope=col>DayOfWeek</th><th scope=col>FlightDate</th><th scope=col>Reporting_Airline</th><th scope=col>Origin</th><th scope=col>Dest</th><th scope=col>CRSDepTime</th><th scope=col>CRSArrTime</th><th scope=col>DepTime</th><th scope=col>ArrTime</th><th scope=col>⋯</th><th scope=col>ArrDelayMinutes</th><th scope=col>CarrierDelay</th><th scope=col>WeatherDelay</th><th scope=col>NASDelay</th><th scope=col>SecurityDelay</th><th scope=col>LateAircraftDelay</th><th scope=col>DepDelay</th><th scope=col>DepDelayMinutes</th><th scope=col>DivDistance</th><th scope=col>DivArrDelay</th></tr>\n",
              "\t<tr><th scope=col>&lt;dbl&gt;</th><th scope=col>&lt;dbl&gt;</th><th scope=col>&lt;date&gt;</th><th scope=col>&lt;chr&gt;</th><th scope=col>&lt;chr&gt;</th><th scope=col>&lt;chr&gt;</th><th scope=col>&lt;chr&gt;</th><th scope=col>&lt;chr&gt;</th><th scope=col>&lt;chr&gt;</th><th scope=col>&lt;chr&gt;</th><th scope=col>⋯</th><th scope=col>&lt;dbl&gt;</th><th scope=col>&lt;dbl&gt;</th><th scope=col>&lt;dbl&gt;</th><th scope=col>&lt;dbl&gt;</th><th scope=col>&lt;dbl&gt;</th><th scope=col>&lt;dbl&gt;</th><th scope=col>&lt;dbl&gt;</th><th scope=col>&lt;dbl&gt;</th><th scope=col>&lt;dbl&gt;</th><th scope=col>&lt;dbl&gt;</th></tr>\n",
              "</thead>\n",
              "<tbody>\n",
              "\t<tr><td> 5</td><td>6</td><td>1988-05-14</td><td>AA</td><td>LAX</td><td>JFK</td><td>0830</td><td>1710</td><td>0829</td><td>1646</td><td>⋯</td><td> 0</td><td>NA</td><td>NA</td><td>NA</td><td>NA</td><td>NA</td><td>-1</td><td>0</td><td>NA</td><td>NA</td></tr>\n",
              "\t<tr><td> 1</td><td>7</td><td>1994-01-02</td><td>UA</td><td>LAX</td><td>JFK</td><td>0730</td><td>1548</td><td>0732</td><td>1549</td><td>⋯</td><td> 1</td><td>NA</td><td>NA</td><td>NA</td><td>NA</td><td>NA</td><td> 2</td><td>2</td><td>NA</td><td>NA</td></tr>\n",
              "\t<tr><td> 4</td><td>1</td><td>2000-04-17</td><td>UA</td><td>LAX</td><td>JFK</td><td>0900</td><td>1721</td><td>0859</td><td>1705</td><td>⋯</td><td> 0</td><td>NA</td><td>NA</td><td>NA</td><td>NA</td><td>NA</td><td>-1</td><td>0</td><td>NA</td><td>NA</td></tr>\n",
              "\t<tr><td> 6</td><td>7</td><td>2003-06-08</td><td>DL</td><td>LAX</td><td>JFK</td><td>1230</td><td>2052</td><td>1228</td><td>2052</td><td>⋯</td><td> 0</td><td>NA</td><td>NA</td><td>NA</td><td>NA</td><td>NA</td><td>-2</td><td>0</td><td>NA</td><td>NA</td></tr>\n",
              "\t<tr><td>10</td><td>6</td><td>1996-10-19</td><td>AA</td><td>LAX</td><td>JFK</td><td>0700</td><td>1509</td><td>0700</td><td>1610</td><td>⋯</td><td>61</td><td>NA</td><td>NA</td><td>NA</td><td>NA</td><td>NA</td><td> 0</td><td>0</td><td>NA</td><td>NA</td></tr>\n",
              "\t<tr><td>10</td><td>3</td><td>2015-10-21</td><td>DL</td><td>LAX</td><td>JFK</td><td>2255</td><td>0720</td><td>2254</td><td>0723</td><td>⋯</td><td> 3</td><td>NA</td><td>NA</td><td>NA</td><td>NA</td><td>NA</td><td>-1</td><td>0</td><td>NA</td><td>NA</td></tr>\n",
              "\t<tr><td> 7</td><td>5</td><td>2012-07-06</td><td>UA</td><td>LAX</td><td>JFK</td><td>0605</td><td>1422</td><td>0600</td><td>1427</td><td>⋯</td><td> 5</td><td>NA</td><td>NA</td><td>NA</td><td>NA</td><td>NA</td><td>-5</td><td>0</td><td>NA</td><td>NA</td></tr>\n",
              "\t<tr><td> 1</td><td>3</td><td>2010-01-06</td><td>DL</td><td>LAX</td><td>JFK</td><td>2125</td><td>0543</td><td>2118</td><td>0540</td><td>⋯</td><td> 0</td><td>NA</td><td>NA</td><td>NA</td><td>NA</td><td>NA</td><td>-7</td><td>0</td><td>NA</td><td>NA</td></tr>\n",
              "\t<tr><td> 5</td><td>5</td><td>2009-05-15</td><td>AA</td><td>LAX</td><td>JFK</td><td>2115</td><td>0535</td><td>2119</td><td>0533</td><td>⋯</td><td> 0</td><td>NA</td><td>NA</td><td>NA</td><td>NA</td><td>NA</td><td> 4</td><td>4</td><td>NA</td><td>NA</td></tr>\n",
              "\t<tr><td> 7</td><td>4</td><td>2000-07-06</td><td>AA</td><td>LAX</td><td>JFK</td><td>2200</td><td>0622</td><td>2158</td><td>0610</td><td>⋯</td><td> 0</td><td>NA</td><td>NA</td><td>NA</td><td>NA</td><td>NA</td><td>-2</td><td>0</td><td>NA</td><td>NA</td></tr>\n",
              "</tbody>\n",
              "</table>\n"
            ],
            "text/markdown": "\nA tibble: 10 × 21\n\n| Month &lt;dbl&gt; | DayOfWeek &lt;dbl&gt; | FlightDate &lt;date&gt; | Reporting_Airline &lt;chr&gt; | Origin &lt;chr&gt; | Dest &lt;chr&gt; | CRSDepTime &lt;chr&gt; | CRSArrTime &lt;chr&gt; | DepTime &lt;chr&gt; | ArrTime &lt;chr&gt; | ⋯ ⋯ | ArrDelayMinutes &lt;dbl&gt; | CarrierDelay &lt;dbl&gt; | WeatherDelay &lt;dbl&gt; | NASDelay &lt;dbl&gt; | SecurityDelay &lt;dbl&gt; | LateAircraftDelay &lt;dbl&gt; | DepDelay &lt;dbl&gt; | DepDelayMinutes &lt;dbl&gt; | DivDistance &lt;dbl&gt; | DivArrDelay &lt;dbl&gt; |\n|---|---|---|---|---|---|---|---|---|---|---|---|---|---|---|---|---|---|---|---|---|\n|  5 | 6 | 1988-05-14 | AA | LAX | JFK | 0830 | 1710 | 0829 | 1646 | ⋯ |  0 | NA | NA | NA | NA | NA | -1 | 0 | NA | NA |\n|  1 | 7 | 1994-01-02 | UA | LAX | JFK | 0730 | 1548 | 0732 | 1549 | ⋯ |  1 | NA | NA | NA | NA | NA |  2 | 2 | NA | NA |\n|  4 | 1 | 2000-04-17 | UA | LAX | JFK | 0900 | 1721 | 0859 | 1705 | ⋯ |  0 | NA | NA | NA | NA | NA | -1 | 0 | NA | NA |\n|  6 | 7 | 2003-06-08 | DL | LAX | JFK | 1230 | 2052 | 1228 | 2052 | ⋯ |  0 | NA | NA | NA | NA | NA | -2 | 0 | NA | NA |\n| 10 | 6 | 1996-10-19 | AA | LAX | JFK | 0700 | 1509 | 0700 | 1610 | ⋯ | 61 | NA | NA | NA | NA | NA |  0 | 0 | NA | NA |\n| 10 | 3 | 2015-10-21 | DL | LAX | JFK | 2255 | 0720 | 2254 | 0723 | ⋯ |  3 | NA | NA | NA | NA | NA | -1 | 0 | NA | NA |\n|  7 | 5 | 2012-07-06 | UA | LAX | JFK | 0605 | 1422 | 0600 | 1427 | ⋯ |  5 | NA | NA | NA | NA | NA | -5 | 0 | NA | NA |\n|  1 | 3 | 2010-01-06 | DL | LAX | JFK | 2125 | 0543 | 2118 | 0540 | ⋯ |  0 | NA | NA | NA | NA | NA | -7 | 0 | NA | NA |\n|  5 | 5 | 2009-05-15 | AA | LAX | JFK | 2115 | 0535 | 2119 | 0533 | ⋯ |  0 | NA | NA | NA | NA | NA |  4 | 4 | NA | NA |\n|  7 | 4 | 2000-07-06 | AA | LAX | JFK | 2200 | 0622 | 2158 | 0610 | ⋯ |  0 | NA | NA | NA | NA | NA | -2 | 0 | NA | NA |\n\n",
            "text/latex": "A tibble: 10 × 21\n\\begin{tabular}{lllllllllllllllllllll}\n Month & DayOfWeek & FlightDate & Reporting\\_Airline & Origin & Dest & CRSDepTime & CRSArrTime & DepTime & ArrTime & ⋯ & ArrDelayMinutes & CarrierDelay & WeatherDelay & NASDelay & SecurityDelay & LateAircraftDelay & DepDelay & DepDelayMinutes & DivDistance & DivArrDelay\\\\\n <dbl> & <dbl> & <date> & <chr> & <chr> & <chr> & <chr> & <chr> & <chr> & <chr> & ⋯ & <dbl> & <dbl> & <dbl> & <dbl> & <dbl> & <dbl> & <dbl> & <dbl> & <dbl> & <dbl>\\\\\n\\hline\n\t  5 & 6 & 1988-05-14 & AA & LAX & JFK & 0830 & 1710 & 0829 & 1646 & ⋯ &  0 & NA & NA & NA & NA & NA & -1 & 0 & NA & NA\\\\\n\t  1 & 7 & 1994-01-02 & UA & LAX & JFK & 0730 & 1548 & 0732 & 1549 & ⋯ &  1 & NA & NA & NA & NA & NA &  2 & 2 & NA & NA\\\\\n\t  4 & 1 & 2000-04-17 & UA & LAX & JFK & 0900 & 1721 & 0859 & 1705 & ⋯ &  0 & NA & NA & NA & NA & NA & -1 & 0 & NA & NA\\\\\n\t  6 & 7 & 2003-06-08 & DL & LAX & JFK & 1230 & 2052 & 1228 & 2052 & ⋯ &  0 & NA & NA & NA & NA & NA & -2 & 0 & NA & NA\\\\\n\t 10 & 6 & 1996-10-19 & AA & LAX & JFK & 0700 & 1509 & 0700 & 1610 & ⋯ & 61 & NA & NA & NA & NA & NA &  0 & 0 & NA & NA\\\\\n\t 10 & 3 & 2015-10-21 & DL & LAX & JFK & 2255 & 0720 & 2254 & 0723 & ⋯ &  3 & NA & NA & NA & NA & NA & -1 & 0 & NA & NA\\\\\n\t  7 & 5 & 2012-07-06 & UA & LAX & JFK & 0605 & 1422 & 0600 & 1427 & ⋯ &  5 & NA & NA & NA & NA & NA & -5 & 0 & NA & NA\\\\\n\t  1 & 3 & 2010-01-06 & DL & LAX & JFK & 2125 & 0543 & 2118 & 0540 & ⋯ &  0 & NA & NA & NA & NA & NA & -7 & 0 & NA & NA\\\\\n\t  5 & 5 & 2009-05-15 & AA & LAX & JFK & 2115 & 0535 & 2119 & 0533 & ⋯ &  0 & NA & NA & NA & NA & NA &  4 & 4 & NA & NA\\\\\n\t  7 & 4 & 2000-07-06 & AA & LAX & JFK & 2200 & 0622 & 2158 & 0610 & ⋯ &  0 & NA & NA & NA & NA & NA & -2 & 0 & NA & NA\\\\\n\\end{tabular}\n",
            "text/plain": [
              "   Month DayOfWeek FlightDate Reporting_Airline Origin Dest CRSDepTime\n",
              "1   5    6         1988-05-14 AA                LAX    JFK  0830      \n",
              "2   1    7         1994-01-02 UA                LAX    JFK  0730      \n",
              "3   4    1         2000-04-17 UA                LAX    JFK  0900      \n",
              "4   6    7         2003-06-08 DL                LAX    JFK  1230      \n",
              "5  10    6         1996-10-19 AA                LAX    JFK  0700      \n",
              "6  10    3         2015-10-21 DL                LAX    JFK  2255      \n",
              "7   7    5         2012-07-06 UA                LAX    JFK  0605      \n",
              "8   1    3         2010-01-06 DL                LAX    JFK  2125      \n",
              "9   5    5         2009-05-15 AA                LAX    JFK  2115      \n",
              "10  7    4         2000-07-06 AA                LAX    JFK  2200      \n",
              "   CRSArrTime DepTime ArrTime ⋯ ArrDelayMinutes CarrierDelay WeatherDelay\n",
              "1  1710       0829    1646    ⋯  0              NA           NA          \n",
              "2  1548       0732    1549    ⋯  1              NA           NA          \n",
              "3  1721       0859    1705    ⋯  0              NA           NA          \n",
              "4  2052       1228    2052    ⋯  0              NA           NA          \n",
              "5  1509       0700    1610    ⋯ 61              NA           NA          \n",
              "6  0720       2254    0723    ⋯  3              NA           NA          \n",
              "7  1422       0600    1427    ⋯  5              NA           NA          \n",
              "8  0543       2118    0540    ⋯  0              NA           NA          \n",
              "9  0535       2119    0533    ⋯  0              NA           NA          \n",
              "10 0622       2158    0610    ⋯  0              NA           NA          \n",
              "   NASDelay SecurityDelay LateAircraftDelay DepDelay DepDelayMinutes\n",
              "1  NA       NA            NA                -1       0              \n",
              "2  NA       NA            NA                 2       2              \n",
              "3  NA       NA            NA                -1       0              \n",
              "4  NA       NA            NA                -2       0              \n",
              "5  NA       NA            NA                 0       0              \n",
              "6  NA       NA            NA                -1       0              \n",
              "7  NA       NA            NA                -5       0              \n",
              "8  NA       NA            NA                -7       0              \n",
              "9  NA       NA            NA                 4       4              \n",
              "10 NA       NA            NA                -2       0              \n",
              "   DivDistance DivArrDelay\n",
              "1  NA          NA         \n",
              "2  NA          NA         \n",
              "3  NA          NA         \n",
              "4  NA          NA         \n",
              "5  NA          NA         \n",
              "6  NA          NA         \n",
              "7  NA          NA         \n",
              "8  NA          NA         \n",
              "9  NA          NA         \n",
              "10 NA          NA         "
            ]
          },
          "metadata": {}
        }
      ],
      "source": [
        "# Write your code below and press Shift+Enter to execute\n",
        "tail(sub_airline, 10)"
      ],
      "execution_count": 6
    },
    {
      "cell_type": "markdown",
      "metadata": {
        "id": "861661bb-1be4-4f6e-b706-841a7b5ab6ec"
      },
      "source": [
        "<details>\n",
        "    <summary>Click here for the solution.</summary>\n",
        "\n",
        "```r\n",
        "tail(sub_airline, 10)\n",
        "```\n",
        "    \n",
        "</details>\n"
      ]
    },
    {
      "cell_type": "markdown",
      "metadata": {
        "id": "2d399371-3ba7-4d4b-8ac1-da22c666ebd4"
      },
      "source": [
        "## Preprocess Data\n",
        "\n",
        "Throughout this course, we are going to be focusing on flights from  LAX to JFK and predict the possibility of Amy's flight delays. So we also exclude flights that got cancelled or diverted. The previous example uses the final subset dataset `sub_airline`. However, there was some preprocessing done on the original dataset to get there. You can find the full dataset here: https://developer.ibm.com/technologies/artificial-intelligence/data/airline/.\n",
        "\n",
        "From this original dataset, we will show you how we got the `sub_airline` dataset. After downloading the original data with `download.file()` and reading the file with `read_csv()`:\n",
        "\n",
        "1. Firstly, we use `dplyr::filter()` to filter out all flights from `LAX` to `JFK`, and filter out the cancelled and diverted flights.\n",
        "2. Then, we use `dplyr::select()` to select the columns by a pre-determined headers list. The original dataset contains more than 100 columns, so we are only going to use a few of the columns such as `Month`, `DaysOfWeek`, `FlightDate`, `Reporting_Airline`, and so on.\n",
        "\n",
        "The below code is to show you how to subset a big dataset. The code is here for your reference. Feel free to play around with it and modify the columns. Remember **not** to run the below code in Skills Network Labs. The data size too big and it is better run to run locally so that Skills Network Labs does not freeze or lag.\n"
      ]
    },
    {
      "cell_type": "raw",
      "metadata": {
        "id": "273019a2-3533-4f39-9e24-941e0c34ab07"
      },
      "source": [
        "# THIS CELL TAKES LONGER TO RUN\n",
        "# PLEASE RUN THIS LOCALLY, OR IT MAY FREEZE YOUR SKILLS NETWORK LABS KERNEL\n",
        "# Download 2 million dataset\n",
        "\n",
        "# url where the data is located\n",
        "url <- \"https://dax-cdn.cdn.appdomain.cloud/dax-airline/1.0.1/airline_2m.tar.gz\"\n",
        "\n",
        "# download the file\n",
        "download.file(url, destfile = \"airline_2m.tar.gz\")\n",
        "\n",
        "# untar the file so we can get the csv only\n",
        "untar(\"airline_2m.tar.gz\")\n",
        "\n",
        "# read_csv only\n",
        "airlines <- read_csv(\"airline_2m.csv\",\n",
        "                     col_types = cols(\n",
        "                      'DivDistance' = col_number(),\n",
        "                      'Div1Airport' = col_character(),\n",
        "                      'Div1AirportID' = col_character(),\n",
        "                      'Div1AirportSeqID' = col_character(),\n",
        "                      'Div1WheelsOn' = col_character(),\n",
        "                      'Div1TotalGTime' = col_number(),\n",
        "                      'Div1LongestGTime' = col_number(),\n",
        "                      'DivReachedDest' = col_number(),\n",
        "                      'DivActualElapsedTime' = col_number(),\n",
        "                      'DivArrDelay' = col_number(),\n",
        "                      'Div1WheelsOff'= col_character(),\n",
        "                      'Div1TailNum' = col_character(),\n",
        "                      'Div2Airport' = col_character(),\n",
        "                      'Div2AirportID' = col_character(),\n",
        "                      'Div2AirportSeqID' = col_character(),\n",
        "                      'Div2WheelsOn' = col_character(),\n",
        "                      'Div2TotalGTime' = col_number(),\n",
        "                      'Div2LongestGTime' = col_number(),\n",
        "                      'Div2WheelsOff' = col_character(),\n",
        "                      'Div2TailNum' = col_character()\n",
        "                      ))\n",
        "# We are going to be focusing on flights from  LAX to JFK and we will exclude\n",
        "# flights that got cancelled or diverted\n",
        "# we are also going to get only useful columns\n",
        "sub_airline <- airlines %>%\n",
        "  filter(Origin == \"LAX\", Dest == \"JFK\",\n",
        "         Cancelled != 1, Diverted != 1) %>%\n",
        "  select(Month, DayOfWeek, FlightDate,\n",
        "         Reporting_Airline, Origin, Dest,\n",
        "         CRSDepTime, CRSArrTime, DepTime,\n",
        "         ArrTime, ArrDelay, ArrDelayMinutes,\n",
        "         CarrierDelay, WeatherDelay, NASDelay,\n",
        "         SecurityDelay, LateAircraftDelay, DepDelay,\n",
        "         DepDelayMinutes, DivDistance, DivArrDelay)"
      ]
    },
    {
      "cell_type": "markdown",
      "metadata": {
        "id": "fed69356-c5b1-402c-8b64-d3d454e480d2"
      },
      "source": [
        "Print and recheck our subset airline data using `dim()` on `sub_airline`.\n"
      ]
    },
    {
      "cell_type": "markdown",
      "metadata": {
        "id": "7be1c3f3-9493-4cd6-baaf-f968bab7d6e1"
      },
      "source": [
        "This subset dataframe should include 2855 rows and 21 columns.\n"
      ]
    },
    {
      "cell_type": "code",
      "metadata": {
        "id": "8889eb50-a911-4864-97a2-bca02f56ca9e",
        "outputId": "b849f39c-3a2a-4c1f-c32e-43d2fe2dbba1",
        "colab": {
          "base_uri": "https://localhost:8080/",
          "height": 34
        }
      },
      "outputs": [
        {
          "output_type": "display_data",
          "data": {
            "text/html": [
              "<style>\n",
              ".list-inline {list-style: none; margin:0; padding: 0}\n",
              ".list-inline>li {display: inline-block}\n",
              ".list-inline>li:not(:last-child)::after {content: \"\\00b7\"; padding: 0 .5ex}\n",
              "</style>\n",
              "<ol class=list-inline><li>2855</li><li>21</li></ol>\n"
            ],
            "text/markdown": "1. 2855\n2. 21\n\n\n",
            "text/latex": "\\begin{enumerate*}\n\\item 2855\n\\item 21\n\\end{enumerate*}\n",
            "text/plain": [
              "[1] 2855   21"
            ]
          },
          "metadata": {}
        }
      ],
      "source": [
        "# Check dimensions of the dataset\n",
        "dim(sub_airline)"
      ],
      "execution_count": 7
    },
    {
      "cell_type": "markdown",
      "metadata": {
        "id": "70b0d5f6-47d1-4a1b-a98e-d146b9d164c1"
      },
      "source": [
        " <div class=\"alert alert-danger alertdanger\" style=\"margin-top: 20px\">\n",
        "<h1> Question #2: </h1>\n",
        "<b>Find the name of the columns of the dataframe</b>\n",
        "</div>\n"
      ]
    },
    {
      "cell_type": "code",
      "metadata": {
        "id": "bfa5abd3-5ba7-4cd2-8112-6ade3686f297",
        "outputId": "9c589fbf-89e1-4aa6-f5ab-d247af78ed6c",
        "colab": {
          "base_uri": "https://localhost:8080/",
          "height": 52
        }
      },
      "outputs": [
        {
          "output_type": "display_data",
          "data": {
            "text/html": [
              "<style>\n",
              ".list-inline {list-style: none; margin:0; padding: 0}\n",
              ".list-inline>li {display: inline-block}\n",
              ".list-inline>li:not(:last-child)::after {content: \"\\00b7\"; padding: 0 .5ex}\n",
              "</style>\n",
              "<ol class=list-inline><li>'Month'</li><li>'DayOfWeek'</li><li>'FlightDate'</li><li>'Reporting_Airline'</li><li>'Origin'</li><li>'Dest'</li><li>'CRSDepTime'</li><li>'CRSArrTime'</li><li>'DepTime'</li><li>'ArrTime'</li><li>'ArrDelay'</li><li>'ArrDelayMinutes'</li><li>'CarrierDelay'</li><li>'WeatherDelay'</li><li>'NASDelay'</li><li>'SecurityDelay'</li><li>'LateAircraftDelay'</li><li>'DepDelay'</li><li>'DepDelayMinutes'</li><li>'DivDistance'</li><li>'DivArrDelay'</li></ol>\n"
            ],
            "text/markdown": "1. 'Month'\n2. 'DayOfWeek'\n3. 'FlightDate'\n4. 'Reporting_Airline'\n5. 'Origin'\n6. 'Dest'\n7. 'CRSDepTime'\n8. 'CRSArrTime'\n9. 'DepTime'\n10. 'ArrTime'\n11. 'ArrDelay'\n12. 'ArrDelayMinutes'\n13. 'CarrierDelay'\n14. 'WeatherDelay'\n15. 'NASDelay'\n16. 'SecurityDelay'\n17. 'LateAircraftDelay'\n18. 'DepDelay'\n19. 'DepDelayMinutes'\n20. 'DivDistance'\n21. 'DivArrDelay'\n\n\n",
            "text/latex": "\\begin{enumerate*}\n\\item 'Month'\n\\item 'DayOfWeek'\n\\item 'FlightDate'\n\\item 'Reporting\\_Airline'\n\\item 'Origin'\n\\item 'Dest'\n\\item 'CRSDepTime'\n\\item 'CRSArrTime'\n\\item 'DepTime'\n\\item 'ArrTime'\n\\item 'ArrDelay'\n\\item 'ArrDelayMinutes'\n\\item 'CarrierDelay'\n\\item 'WeatherDelay'\n\\item 'NASDelay'\n\\item 'SecurityDelay'\n\\item 'LateAircraftDelay'\n\\item 'DepDelay'\n\\item 'DepDelayMinutes'\n\\item 'DivDistance'\n\\item 'DivArrDelay'\n\\end{enumerate*}\n",
            "text/plain": [
              " [1] \"Month\"             \"DayOfWeek\"         \"FlightDate\"       \n",
              " [4] \"Reporting_Airline\" \"Origin\"            \"Dest\"             \n",
              " [7] \"CRSDepTime\"        \"CRSArrTime\"        \"DepTime\"          \n",
              "[10] \"ArrTime\"           \"ArrDelay\"          \"ArrDelayMinutes\"  \n",
              "[13] \"CarrierDelay\"      \"WeatherDelay\"      \"NASDelay\"         \n",
              "[16] \"SecurityDelay\"     \"LateAircraftDelay\" \"DepDelay\"         \n",
              "[19] \"DepDelayMinutes\"   \"DivDistance\"       \"DivArrDelay\"      "
            ]
          },
          "metadata": {}
        }
      ],
      "source": [
        "# Write your code below and press Shift+Enter to execute\n",
        "colnames(sub_airline)"
      ],
      "execution_count": 8
    },
    {
      "cell_type": "markdown",
      "metadata": {
        "id": "8b0545de-a9f8-496e-a7e5-992e6e050cfd"
      },
      "source": [
        "<details>\n",
        "    <summary>Click here for the solution.</summary>\n",
        "    \n",
        "```r\n",
        "colnames(sub_airline)\n",
        "```\n",
        "    \n",
        "</details>\n"
      ]
    },
    {
      "cell_type": "markdown",
      "metadata": {
        "id": "20b8c18f-1b6f-4cf9-9044-4141d86d7de5"
      },
      "source": [
        "<h2>Save Dataset</h2>\n",
        "<p>\n",
        "Correspondingly, \"readr\" enables us to save the dataset to csv by using the <code>write_csv()</code> method, you can add the file path and name along with quotation marks in the brackets.\n",
        "</p>\n",
        "<p>\n",
        "For example, if you wanted to save the dataframe <b>sub_airline</b> as <b>lax_to_jfk.csv</b> to your local machine in the current directory, you can use the syntax below:\n",
        "</p>\n"
      ]
    },
    {
      "cell_type": "code",
      "metadata": {
        "id": "7a746359-4a1f-42d9-b3f8-57eed9918194"
      },
      "outputs": [],
      "source": [
        "write_csv(sub_airline, \"lax_to_jfk.csv\")"
      ],
      "execution_count": null
    },
    {
      "cell_type": "markdown",
      "metadata": {
        "id": "1ebc700d-4439-4068-90ba-17f6aa9b1489"
      },
      "source": [
        "<h2>Read/Save Other Data Formats</h2>\n",
        "\n",
        "We can also read and save other file formats, we can use similar functions to **`read_csv()`** and **`write_csv()`** for other data formats, the functions are listed in the following table:\n"
      ]
    },
    {
      "cell_type": "markdown",
      "metadata": {
        "id": "329cecb8-2768-4819-8451-7f692f3e4d82"
      },
      "source": [
        "| Data Format  | Read           | Save             |\n",
        "| ------------- |:--------------:| ----------------:|\n",
        "| csv           | `read_csv()`  |`write_csv()`     |\n",
        "| tsv           | `read_tsv()`  |`write_tsv()`     |\n",
        "| delimiter     |`read_delim()` |`write_delim()`   |\n",
        "| ...           |   ...          |       ...        |\n",
        "\n",
        "You can find more functions from the \"readr\" documentation [here](https://readr.tidyverse.org/).\n"
      ]
    },
    {
      "cell_type": "markdown",
      "metadata": {
        "id": "9419e1b1-37e8-40a2-b559-cdf0a07f56be"
      },
      "source": [
        "<a id=\"cell2\"></a>\n",
        "<h1 id=\"basic_insight\">2. Basic Insights of the Dataset</h1>\n",
        "<p>\n",
        "After reading data into a dataframe, it is time for us to explore the dataset a little more.<br>\n",
        "There are several ways to obtain essential insights of the data to help us better understand our dataset.\n",
        "</p>\n"
      ]
    },
    {
      "cell_type": "markdown",
      "metadata": {
        "id": "eb454f51-1acd-4359-83e9-2b813f402881"
      },
      "source": [
        "## Data Types\n",
        "\n",
        "Data has a variety of types.\n",
        "\n",
        "The main types stored in R are: `numeric`, `integer`, `complex`, `logical`, `character`. In order to better learn about each attribute, it is always good for us to know the data type of each column.\n",
        "\n",
        "Let's check by using `sapply()` to apply  `typeof` to every column in the dataframe `sub_airline`:\n"
      ]
    },
    {
      "cell_type": "code",
      "metadata": {
        "id": "6d429598-f3eb-4cbc-8c04-28479b1ab55a"
      },
      "outputs": [],
      "source": [
        "sapply(sub_airline, typeof)"
      ],
      "execution_count": null
    },
    {
      "cell_type": "markdown",
      "metadata": {
        "id": "7cc42011-9d6a-4a03-99b1-afa9659b4984"
      },
      "source": [
        "**Numeric and Integer Types**\n",
        "\n",
        "Decimal values are called `numeric` in R. It is the default computational data type. If we assign a decimal value to a variable x as follows, x will be of numeric type.\n"
      ]
    },
    {
      "cell_type": "code",
      "metadata": {
        "id": "188b2d81-0149-4ecc-bf72-4b5d868772f3"
      },
      "outputs": [],
      "source": [
        "x = 10.5       # assign a decimal value\n",
        "class(x)       # print the class name of x, which should be numeric"
      ],
      "execution_count": null
    },
    {
      "cell_type": "markdown",
      "metadata": {
        "id": "dfb23960-e3e0-409c-9197-0e8d3ab830de"
      },
      "source": [
        "Furthermore, even if we assign an integer to a variable k, it is still being saved as a numeric value.\n"
      ]
    },
    {
      "cell_type": "code",
      "metadata": {
        "id": "a0029b8f-4110-4663-a93f-4a76b7b626ff"
      },
      "outputs": [],
      "source": [
        "k = 1          # assign an integer value\n",
        "class(x)       # print the class name of x, which should be numeric"
      ],
      "execution_count": null
    },
    {
      "cell_type": "markdown",
      "metadata": {
        "id": "50dfc30d-4db8-4a35-893d-f85dba3f3ff0"
      },
      "source": [
        "In order to create an integer variable in R, we invoke the integer function. We can be assured that y is indeed an integer by applying the is.integer function.\n"
      ]
    },
    {
      "cell_type": "code",
      "metadata": {
        "id": "d9fcca72-137e-406e-ab6f-f502b19cc7d9"
      },
      "outputs": [],
      "source": [
        "y = as.integer(3)        # assign a integer value\n",
        "class(y)                 # print the class name of y, which should be integer"
      ],
      "execution_count": null
    },
    {
      "cell_type": "markdown",
      "metadata": {
        "id": "801b2557-d4c6-4c54-bd9e-a3e482ede5ca"
      },
      "source": [
        "**Complex Type**\n",
        "\n",
        "A complex value in R is defined via the pure imaginary value $i$ (`0i` in R).\n"
      ]
    },
    {
      "cell_type": "code",
      "metadata": {
        "id": "097d18fa-729b-4e01-b6dd-e7b5e572b50f"
      },
      "outputs": [],
      "source": [
        "z = 0i\n",
        "class(z)"
      ],
      "execution_count": null
    },
    {
      "cell_type": "markdown",
      "metadata": {
        "id": "00d03632-aba7-4f7f-9752-20bf5589c830"
      },
      "source": [
        "**Logical Type**\n",
        "\n",
        "A logical value is often created via comparison between variables, such as True, False.\n"
      ]
    },
    {
      "cell_type": "code",
      "metadata": {
        "id": "38fe0c9b-2322-41fa-9bbe-f4fed2418876"
      },
      "outputs": [],
      "source": [
        "logical_values = c(TRUE, T, FALSE, F)\n",
        "class(logical_values)"
      ],
      "execution_count": null
    },
    {
      "cell_type": "markdown",
      "metadata": {
        "id": "b0137290-e102-4538-b08e-4febde0a405f"
      },
      "source": [
        "**Character Type**\n",
        "\n",
        "A character object is used to represent string values in R.\n"
      ]
    },
    {
      "cell_type": "code",
      "metadata": {
        "id": "bf100d59-7de5-4100-98a2-01bc241e2c7d"
      },
      "outputs": [],
      "source": [
        "class('this is a character')"
      ],
      "execution_count": null
    },
    {
      "cell_type": "markdown",
      "metadata": {
        "id": "38c46d4c-9043-4406-a75c-e7f620b060ee"
      },
      "source": [
        "## Dplyr for Data Wrangling and Transformation\n",
        "\n",
        "The dplyr package is very useful to transform data and get basic insights from the dataset. The most important functions are:\n",
        "* `select()`\n",
        "* `filter()`\n",
        "* `summarize()`\n",
        "* `arrange()`\n",
        "* `mutate()`\n",
        "* `group_by()`\n"
      ]
    },
    {
      "cell_type": "markdown",
      "metadata": {
        "id": "a7041a88-6aaa-4043-8f70-6a50070bc3ee"
      },
      "source": [
        "### Pipe\n",
        "Before we dive deeper into using some of the functions of dyplr, we first introduce the **pipe** operator **`%>%`**. The pipe operator allows us to chain together dplyr data wrangling functions.\n",
        "\n",
        "An advantage of using pipe is that it replaces having messy nested functions that can be difficult to interpret like:\n"
      ]
    },
    {
      "cell_type": "raw",
      "metadata": {
        "id": "6bb1d02a-80e1-4a2c-9aef-76df9e7d4a4c"
      },
      "source": [
        "summarize(group_by(filter(sub_airline, Month == 1), Reporting_Airline), avg_carrier_delay = mean(CarrierDelay, na.rm = TRUE))"
      ]
    },
    {
      "cell_type": "markdown",
      "metadata": {
        "id": "2ef8662b-d1aa-41c3-8c2d-909c6795b98f"
      },
      "source": [
        "The same code can be written using pipe and makes it much easier to understand:\n"
      ]
    },
    {
      "cell_type": "raw",
      "metadata": {
        "id": "242c258e-8a4c-46b9-a16f-ea1c804ec0fe"
      },
      "source": [
        "sub_airline %>%\n",
        "  filter(Month == 1) %>%\n",
        "  group_by(Reporting_Airline) %>%\n",
        "  summarize(avg_carrier_delay = mean(CarrierDelay, na.rm = TRUE))"
      ]
    },
    {
      "cell_type": "markdown",
      "metadata": {
        "id": "ab20360b-5e8f-49a2-adc2-010515e59bf3"
      },
      "source": [
        "When interpreting the above lines of code, the pipe operator can be read as “then”.\n",
        "The **`%>%`** operator allows us to go from one step in dplyr to the next easily, so the above example can clearily be interpreted as:\n",
        "* **`filter`** our data frame for month 1 *then*\n",
        "* **`group_by`** the reporting airline types *then*\n",
        "* **`summarize`** the average `CarrierDelay` for each airline. The final output is the average `CarrierDelay` for each `Reporting_Airline` in month 1.\n"
      ]
    },
    {
      "cell_type": "markdown",
      "metadata": {
        "id": "29ad5bde-fa60-4898-8282-d8675f323d56"
      },
      "source": [
        "### Summarize\n",
        "\n",
        "Now, let's go over some examples using basic dplyr functions with pipe.\n",
        "If we would like to get a statistical summary of a column, such as count, column mean value, column standard deviation, etc., we can use the `summarize()` method (can also use `summarise()`).\n"
      ]
    },
    {
      "cell_type": "markdown",
      "metadata": {
        "id": "4c5bf2af-80dd-4885-b95e-b62738aa79b9"
      },
      "source": [
        "This method will provide various summary statistics, excluding `NA` (Not Available) values.\n"
      ]
    },
    {
      "cell_type": "code",
      "metadata": {
        "id": "44d68e3f-5539-411e-b97b-ef03c60e3849"
      },
      "outputs": [],
      "source": [
        "# group_by / summarize workflow example\n",
        "sub_airline %>%\n",
        "  group_by(Reporting_Airline) %>%\n",
        "  summarize(avg_carrier_delay = mean(CarrierDelay, na.rm = TRUE)) # use mean value"
      ],
      "execution_count": null
    },
    {
      "cell_type": "markdown",
      "metadata": {
        "id": "2c1250ab-e0fb-46f7-9ffa-ee23ed62fd6e"
      },
      "source": [
        "The statistical metrics can tell the data scientist if there are mathematical issues that may exist in a particular column, such as extreme outliers and large deviations. The data scientist may have to address these issues later. The above example used `mean()` to return the mean value of arrival delay, you may also use `sd` for standard deviation, `median`, etc.\n"
      ]
    },
    {
      "cell_type": "code",
      "metadata": {
        "id": "fc4bdc0a-d9f5-46f6-bde9-45929e0a1dd5"
      },
      "outputs": [],
      "source": [
        "# group_by / summarise workflow example\n",
        "sub_airline %>%\n",
        "  group_by(Reporting_Airline) %>%\n",
        "  summarize(sd_carrier_delay = sd(CarrierDelay, na.rm = TRUE)) # use standard deviation"
      ],
      "execution_count": null
    },
    {
      "cell_type": "markdown",
      "metadata": {
        "id": "ecb42509-1abf-42f6-9244-e88536d537d1"
      },
      "source": [
        "<div class=\"alert alert-danger alertdanger\" style=\"margin-top: 20px\">\n",
        "<h1> Question #3: </h1>\n",
        "\n",
        "Using `sub_airline`, get the mean of `ArrDelay` for each `Reporting_Airline`.\n",
        "In other words, group by `Reporting_Airline` and summarize the mean of `ArrDelay` of each reporting airline. Remember to use `na.rm = TRUE`.\n",
        "</div>\n"
      ]
    },
    {
      "cell_type": "markdown",
      "metadata": {
        "id": "887ae664-58e4-4521-a6cc-edaa37fcfb61"
      },
      "source": [
        "<details>\n",
        "    <summary>Click here for the solution.</summary>\n",
        "\n",
        "```r\n",
        "sub_airline %>%\n",
        "  group_by(Reporting_Airline) %>%\n",
        "  summarize(airline_Delay = mean(ArrDelay, na.rm = TRUE))\n",
        "```\n",
        "    \n",
        "</details>\n"
      ]
    },
    {
      "cell_type": "markdown",
      "metadata": {
        "id": "b902abac-8f8b-4786-9329-8b0c9aac2a03"
      },
      "source": [
        "### Glimpse\n",
        "Another method you can use to check your dataset is:\n"
      ]
    },
    {
      "cell_type": "raw",
      "metadata": {
        "id": "a50e5896-ab71-4a2c-8735-8dca48a9e468"
      },
      "source": [
        "glimpse()"
      ]
    },
    {
      "cell_type": "markdown",
      "metadata": {
        "id": "c09adf76-5329-4eb1-8048-d73908105ff1"
      },
      "source": [
        "It provide a concise summary of your DataFrame.\n"
      ]
    },
    {
      "cell_type": "code",
      "metadata": {
        "id": "0fd89276-d4d6-48d0-93c4-6d471af1c0c9"
      },
      "outputs": [],
      "source": [
        "# look at the info of airline dataset\n",
        "glimpse(sub_airline)"
      ],
      "execution_count": null
    },
    {
      "cell_type": "markdown",
      "metadata": {
        "id": "6a57539e-45fb-46c5-818f-3fb318649233"
      },
      "source": [
        "<p>\n",
        "Here we are able to see the information of our dataframe, it prints out column names, column types, and first few values for brief data previews. It also shows us this subset dataset has 2,855 rows and 21 columns.\n",
        "</p>\n",
        "\n",
        "This subset dataset `sub_airline` (\"lax_to_jfk.csv\") will be used throughout the course.\n"
      ]
    },
    {
      "cell_type": "markdown",
      "metadata": {
        "id": "3b172ee5-6b6a-4559-9666-d76352574194"
      },
      "source": [
        "<h1>Excellent! You have just completed the  Introduction  Notebook!</h1>\n"
      ]
    },
    {
      "cell_type": "markdown",
      "metadata": {
        "id": "4a49a206-2401-417e-9201-5547e232e2c1"
      },
      "source": [
        "### About the Authors:\n",
        "\n",
        "This notebook was written by [Yiwen Li](https://developer.ibm.com/profiles/yiwen.li/) and [Gabriela De Queiroz](https://developer.ibm.com/profiles/gdq/).\n",
        "\n",
        "<p><a href=\"https://www.linkedin.com/in/yiwen-li-47a019119/\" target=\"_blank\">Yiwen Li</a> has approximately three year experiences in big tech industry. Currently, she is a developer advocate, a data scientist, a product manager at IBM, where she designs and develops data science solutions and Machine Learning models to solve real world problems. She has delivered talks this year in JupyterCon, PyCon, Pyjamas, CrowdCast.ai, Global AI on Tour 2020 and Belpy 2021 with hundreds of attendants per talk.\n",
        "        \n",
        "<a href=\"https://www.linkedin.com/in/gabrieladequeiroz/\" target=\"_blank\">Gabriela de Queiroz</a> is a Sr. Engineering & Data Science Manager at IBM where she manages and leads a team of developers working on Data & AI Open Source projects. She works to democratize AI by building tools and launching new open source projects.\n",
        "She is the founder of AI Inclusive, a global organization that is helping increase the representation and participation of gender minorities in Artificial Intelligence. She is also the founder of R-Ladies, a worldwide organization for promoting diversity in the R community with more than 190 chapters in 50+ countries.\n",
        "She has worked in several startups and where she built teams, developed statistical models, and employed a variety of techniques to derive insights and drive data-centric decisions\n"
      ]
    },
    {
      "cell_type": "markdown",
      "metadata": {
        "id": "4083231e-375b-4185-a1ce-daca24de768c"
      },
      "source": [
        "Copyright © 2021 IBM Corporation. All rights reserved.\n"
      ]
    }
  ],
  "metadata": {
    "kernelspec": {
      "display_name": "R",
      "name": "ir"
    },
    "language_info": {
      "name": "R"
    },
    "colab": {
      "provenance": []
    }
  },
  "nbformat": 4,
  "nbformat_minor": 0
}